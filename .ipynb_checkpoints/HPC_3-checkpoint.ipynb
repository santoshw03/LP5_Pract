{
 "cells": [
  {
   "cell_type": "code",
   "execution_count": 3,
   "id": "6647e29f-9ab0-4ecd-9b8e-c95ec3e7c2fd",
   "metadata": {},
   "outputs": [
    {
     "name": "stdout",
     "output_type": "stream",
     "text": [
      "Minimum value: 1\n",
      "Maximum value: 5\n",
      "Sum of values: 14\n",
      "Average of values: 2.8\n"
     ]
    }
   ],
   "source": [
    "def parallel_min(arr):\n",
    "    return min(arr)\n",
    "\n",
    "def parallel_max(arr):\n",
    "    return max(arr)\n",
    "\n",
    "def parallel_sum(arr):\n",
    "    return sum(arr)\n",
    "\n",
    "def parallel_average(arr):\n",
    "    return float(sum(arr)) / len(arr) if len(arr) > 0 else 0.0\n",
    "\n",
    "\n",
    "arr = [1, 2, 3, 5, 3]\n",
    "\n",
    "# Calculations\n",
    "min_val = parallel_min(arr)\n",
    "print(\"Minimum value:\", min_val)\n",
    "\n",
    "max_val = parallel_max(arr)\n",
    "print(\"Maximum value:\", max_val)\n",
    "\n",
    "total_sum = parallel_sum(arr)\n",
    "print(\"Sum of values:\", total_sum)\n",
    "\n",
    "avg = parallel_average(arr)\n",
    "print(\"Average of values:\", avg)\n"
   ]
  },
  {
   "cell_type": "code",
   "execution_count": null,
   "id": "6310cdba-b248-4d56-9a12-ddf44c71ccc4",
   "metadata": {},
   "outputs": [],
   "source": []
  }
 ],
 "metadata": {
  "kernelspec": {
   "display_name": "Python 3 (ipykernel)",
   "language": "python",
   "name": "python3"
  },
  "language_info": {
   "codemirror_mode": {
    "name": "ipython",
    "version": 3
   },
   "file_extension": ".py",
   "mimetype": "text/x-python",
   "name": "python",
   "nbconvert_exporter": "python",
   "pygments_lexer": "ipython3",
   "version": "3.12.4"
  }
 },
 "nbformat": 4,
 "nbformat_minor": 5
}
