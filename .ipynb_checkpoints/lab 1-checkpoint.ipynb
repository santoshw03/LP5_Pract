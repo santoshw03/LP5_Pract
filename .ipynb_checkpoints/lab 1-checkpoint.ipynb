{
 "cells": [
  {
   "cell_type": "code",
   "execution_count": 10,
   "metadata": {
    "id": "DRAzVyJS1ybT"
   },
   "outputs": [],
   "source": [
    "import numpy as np\n",
    "import matplotlib.pyplot as plt\n",
    "from sklearn.datasets import fetch_california_housing\n",
    "from sklearn.model_selection import train_test_split\n",
    "from sklearn.preprocessing import StandardScaler\n",
    "import tensorflow as tf\n",
    "from tensorflow import keras\n",
    "import seaborn as sns\n",
    "import warnings\n",
    "warnings.filterwarnings(\"ignore\")"
   ]
  },
  {
   "cell_type": "code",
   "execution_count": 3,
   "metadata": {
    "id": "pbo-IDmd2TUp"
   },
   "outputs": [],
   "source": [
    "# Load dataset\n",
    "housing = fetch_california_housing()\n",
    "X = housing.data\n",
    "y = housing.target\n",
    "\n",
    "# Split data\n",
    "X_train, X_test, y_train, y_test = train_test_split(X, y, test_size=0.2, random_state=42)\n",
    "\n",
    "# Feature Scaling\n",
    "scaler = StandardScaler()\n",
    "X_train = scaler.fit_transform(X_train)\n",
    "X_test = scaler.transform(X_test)"
   ]
  },
  {
   "cell_type": "code",
   "execution_count": 4,
   "metadata": {
    "colab": {
     "base_uri": "https://localhost:8080/"
    },
    "id": "eqo1MCni2qrl",
    "outputId": "8e409d70-3c9f-41f9-c160-cb43364bcda7"
   },
   "outputs": [],
   "source": [
    "model = keras.Sequential([\n",
    "    keras.layers.Dense(64, activation='relu', input_shape=(X_train.shape[1],)),\n",
    "    keras.layers.Dense(64, activation='relu'),\n",
    "    keras.layers.Dense(1)  # Output layer for regression\n",
    "])\n",
    "\n",
    "model.compile(optimizer='adam', loss='mse', metrics=['mae'])"
   ]
  },
  {
   "cell_type": "code",
   "execution_count": 5,
   "metadata": {
    "colab": {
     "base_uri": "https://localhost:8080/"
    },
    "id": "Z-jRjH-F2rnQ",
    "outputId": "a1228d47-4efd-4002-d762-be2ef138275b"
   },
   "outputs": [
    {
     "name": "stdout",
     "output_type": "stream",
     "text": [
      "Epoch 1/100\n",
      "\u001b[1m465/465\u001b[0m \u001b[32m━━━━━━━━━━━━━━━━━━━━\u001b[0m\u001b[37m\u001b[0m \u001b[1m5s\u001b[0m 3ms/step - loss: 1.7532 - mae: 0.8278 - val_loss: 0.4599 - val_mae: 0.4900\n",
      "Epoch 2/100\n",
      "\u001b[1m465/465\u001b[0m \u001b[32m━━━━━━━━━━━━━━━━━━━━\u001b[0m\u001b[37m\u001b[0m \u001b[1m1s\u001b[0m 2ms/step - loss: 0.4044 - mae: 0.4500 - val_loss: 0.4057 - val_mae: 0.4522\n",
      "Epoch 3/100\n",
      "\u001b[1m465/465\u001b[0m \u001b[32m━━━━━━━━━━━━━━━━━━━━\u001b[0m\u001b[37m\u001b[0m \u001b[1m1s\u001b[0m 3ms/step - loss: 0.3714 - mae: 0.4332 - val_loss: 0.3917 - val_mae: 0.4402\n",
      "Epoch 4/100\n",
      "\u001b[1m465/465\u001b[0m \u001b[32m━━━━━━━━━━━━━━━━━━━━\u001b[0m\u001b[37m\u001b[0m \u001b[1m1s\u001b[0m 3ms/step - loss: 0.3622 - mae: 0.4246 - val_loss: 0.3813 - val_mae: 0.4383\n",
      "Epoch 5/100\n",
      "\u001b[1m465/465\u001b[0m \u001b[32m━━━━━━━━━━━━━━━━━━━━\u001b[0m\u001b[37m\u001b[0m \u001b[1m1s\u001b[0m 3ms/step - loss: 0.3391 - mae: 0.4091 - val_loss: 0.3652 - val_mae: 0.4237\n",
      "Epoch 6/100\n",
      "\u001b[1m465/465\u001b[0m \u001b[32m━━━━━━━━━━━━━━━━━━━━\u001b[0m\u001b[37m\u001b[0m \u001b[1m1s\u001b[0m 3ms/step - loss: 0.3258 - mae: 0.3963 - val_loss: 0.3755 - val_mae: 0.4493\n",
      "Epoch 7/100\n",
      "\u001b[1m465/465\u001b[0m \u001b[32m━━━━━━━━━━━━━━━━━━━━\u001b[0m\u001b[37m\u001b[0m \u001b[1m1s\u001b[0m 2ms/step - loss: 0.3191 - mae: 0.3977 - val_loss: 0.3544 - val_mae: 0.4276\n",
      "Epoch 8/100\n",
      "\u001b[1m465/465\u001b[0m \u001b[32m━━━━━━━━━━━━━━━━━━━━\u001b[0m\u001b[37m\u001b[0m \u001b[1m1s\u001b[0m 2ms/step - loss: 0.3046 - mae: 0.3869 - val_loss: 0.3361 - val_mae: 0.4105\n",
      "Epoch 9/100\n",
      "\u001b[1m465/465\u001b[0m \u001b[32m━━━━━━━━━━━━━━━━━━━━\u001b[0m\u001b[37m\u001b[0m \u001b[1m1s\u001b[0m 3ms/step - loss: 0.3299 - mae: 0.3977 - val_loss: 0.3307 - val_mae: 0.3908\n",
      "Epoch 10/100\n",
      "\u001b[1m465/465\u001b[0m \u001b[32m━━━━━━━━━━━━━━━━━━━━\u001b[0m\u001b[37m\u001b[0m \u001b[1m2s\u001b[0m 4ms/step - loss: 0.3063 - mae: 0.3814 - val_loss: 0.3268 - val_mae: 0.3975\n",
      "Epoch 11/100\n",
      "\u001b[1m465/465\u001b[0m \u001b[32m━━━━━━━━━━━━━━━━━━━━\u001b[0m\u001b[37m\u001b[0m \u001b[1m1s\u001b[0m 3ms/step - loss: 0.3047 - mae: 0.3767 - val_loss: 0.3309 - val_mae: 0.3996\n",
      "Epoch 12/100\n",
      "\u001b[1m465/465\u001b[0m \u001b[32m━━━━━━━━━━━━━━━━━━━━\u001b[0m\u001b[37m\u001b[0m \u001b[1m1s\u001b[0m 3ms/step - loss: 0.3075 - mae: 0.3830 - val_loss: 0.3183 - val_mae: 0.3941\n",
      "Epoch 13/100\n",
      "\u001b[1m465/465\u001b[0m \u001b[32m━━━━━━━━━━━━━━━━━━━━\u001b[0m\u001b[37m\u001b[0m \u001b[1m1s\u001b[0m 3ms/step - loss: 0.2890 - mae: 0.3735 - val_loss: 0.3214 - val_mae: 0.4021\n",
      "Epoch 14/100\n",
      "\u001b[1m465/465\u001b[0m \u001b[32m━━━━━━━━━━━━━━━━━━━━\u001b[0m\u001b[37m\u001b[0m \u001b[1m1s\u001b[0m 3ms/step - loss: 0.2836 - mae: 0.3694 - val_loss: 0.3199 - val_mae: 0.3821\n",
      "Epoch 15/100\n",
      "\u001b[1m465/465\u001b[0m \u001b[32m━━━━━━━━━━━━━━━━━━━━\u001b[0m\u001b[37m\u001b[0m \u001b[1m1s\u001b[0m 2ms/step - loss: 0.2957 - mae: 0.3721 - val_loss: 0.3079 - val_mae: 0.3817\n",
      "Epoch 16/100\n",
      "\u001b[1m465/465\u001b[0m \u001b[32m━━━━━━━━━━━━━━━━━━━━\u001b[0m\u001b[37m\u001b[0m \u001b[1m1s\u001b[0m 2ms/step - loss: 0.2845 - mae: 0.3675 - val_loss: 0.3365 - val_mae: 0.3848\n",
      "Epoch 17/100\n",
      "\u001b[1m465/465\u001b[0m \u001b[32m━━━━━━━━━━━━━━━━━━━━\u001b[0m\u001b[37m\u001b[0m \u001b[1m1s\u001b[0m 3ms/step - loss: 0.3055 - mae: 0.3762 - val_loss: 0.3150 - val_mae: 0.4012\n",
      "Epoch 18/100\n",
      "\u001b[1m465/465\u001b[0m \u001b[32m━━━━━━━━━━━━━━━━━━━━\u001b[0m\u001b[37m\u001b[0m \u001b[1m1s\u001b[0m 2ms/step - loss: 0.2706 - mae: 0.3599 - val_loss: 0.3106 - val_mae: 0.3980\n",
      "Epoch 19/100\n",
      "\u001b[1m465/465\u001b[0m \u001b[32m━━━━━━━━━━━━━━━━━━━━\u001b[0m\u001b[37m\u001b[0m \u001b[1m1s\u001b[0m 3ms/step - loss: 0.2996 - mae: 0.3647 - val_loss: 0.3013 - val_mae: 0.3763\n",
      "Epoch 20/100\n",
      "\u001b[1m465/465\u001b[0m \u001b[32m━━━━━━━━━━━━━━━━━━━━\u001b[0m\u001b[37m\u001b[0m \u001b[1m1s\u001b[0m 3ms/step - loss: 0.2763 - mae: 0.3634 - val_loss: 0.3007 - val_mae: 0.3821\n",
      "Epoch 21/100\n",
      "\u001b[1m465/465\u001b[0m \u001b[32m━━━━━━━━━━━━━━━━━━━━\u001b[0m\u001b[37m\u001b[0m \u001b[1m1s\u001b[0m 2ms/step - loss: 0.2809 - mae: 0.3631 - val_loss: 0.2979 - val_mae: 0.3794\n",
      "Epoch 22/100\n",
      "\u001b[1m465/465\u001b[0m \u001b[32m━━━━━━━━━━━━━━━━━━━━\u001b[0m\u001b[37m\u001b[0m \u001b[1m1s\u001b[0m 2ms/step - loss: 0.2622 - mae: 0.3544 - val_loss: 0.3086 - val_mae: 0.3755\n",
      "Epoch 23/100\n",
      "\u001b[1m465/465\u001b[0m \u001b[32m━━━━━━━━━━━━━━━━━━━━\u001b[0m\u001b[37m\u001b[0m \u001b[1m1s\u001b[0m 2ms/step - loss: 0.3196 - mae: 0.3679 - val_loss: 0.3234 - val_mae: 0.3769\n",
      "Epoch 24/100\n",
      "\u001b[1m465/465\u001b[0m \u001b[32m━━━━━━━━━━━━━━━━━━━━\u001b[0m\u001b[37m\u001b[0m \u001b[1m1s\u001b[0m 3ms/step - loss: 0.2703 - mae: 0.3562 - val_loss: 0.3142 - val_mae: 0.3975\n",
      "Epoch 25/100\n",
      "\u001b[1m465/465\u001b[0m \u001b[32m━━━━━━━━━━━━━━━━━━━━\u001b[0m\u001b[37m\u001b[0m \u001b[1m1s\u001b[0m 2ms/step - loss: 0.2621 - mae: 0.3551 - val_loss: 0.3215 - val_mae: 0.3885\n",
      "Epoch 26/100\n",
      "\u001b[1m465/465\u001b[0m \u001b[32m━━━━━━━━━━━━━━━━━━━━\u001b[0m\u001b[37m\u001b[0m \u001b[1m1s\u001b[0m 3ms/step - loss: 0.2674 - mae: 0.3539 - val_loss: 0.2960 - val_mae: 0.3713\n",
      "Epoch 27/100\n",
      "\u001b[1m465/465\u001b[0m \u001b[32m━━━━━━━━━━━━━━━━━━━━\u001b[0m\u001b[37m\u001b[0m \u001b[1m1s\u001b[0m 3ms/step - loss: 0.2674 - mae: 0.3537 - val_loss: 0.3089 - val_mae: 0.3954\n",
      "Epoch 28/100\n",
      "\u001b[1m465/465\u001b[0m \u001b[32m━━━━━━━━━━━━━━━━━━━━\u001b[0m\u001b[37m\u001b[0m \u001b[1m1s\u001b[0m 2ms/step - loss: 0.2666 - mae: 0.3504 - val_loss: 0.2928 - val_mae: 0.3772\n",
      "Epoch 29/100\n",
      "\u001b[1m465/465\u001b[0m \u001b[32m━━━━━━━━━━━━━━━━━━━━\u001b[0m\u001b[37m\u001b[0m \u001b[1m1s\u001b[0m 2ms/step - loss: 0.2516 - mae: 0.3435 - val_loss: 0.3197 - val_mae: 0.4073\n",
      "Epoch 30/100\n",
      "\u001b[1m465/465\u001b[0m \u001b[32m━━━━━━━━━━━━━━━━━━━━\u001b[0m\u001b[37m\u001b[0m \u001b[1m1s\u001b[0m 2ms/step - loss: 0.2591 - mae: 0.3488 - val_loss: 0.3287 - val_mae: 0.3856\n",
      "Epoch 31/100\n",
      "\u001b[1m465/465\u001b[0m \u001b[32m━━━━━━━━━━━━━━━━━━━━\u001b[0m\u001b[37m\u001b[0m \u001b[1m1s\u001b[0m 3ms/step - loss: 0.2739 - mae: 0.3585 - val_loss: 0.3031 - val_mae: 0.3681\n",
      "Epoch 32/100\n",
      "\u001b[1m465/465\u001b[0m \u001b[32m━━━━━━━━━━━━━━━━━━━━\u001b[0m\u001b[37m\u001b[0m \u001b[1m1s\u001b[0m 3ms/step - loss: 0.2560 - mae: 0.3464 - val_loss: 0.2963 - val_mae: 0.3747\n",
      "Epoch 33/100\n",
      "\u001b[1m465/465\u001b[0m \u001b[32m━━━━━━━━━━━━━━━━━━━━\u001b[0m\u001b[37m\u001b[0m \u001b[1m1s\u001b[0m 2ms/step - loss: 0.2561 - mae: 0.3438 - val_loss: 0.3023 - val_mae: 0.3666\n",
      "Epoch 34/100\n",
      "\u001b[1m465/465\u001b[0m \u001b[32m━━━━━━━━━━━━━━━━━━━━\u001b[0m\u001b[37m\u001b[0m \u001b[1m1s\u001b[0m 2ms/step - loss: 0.2697 - mae: 0.3490 - val_loss: 0.3020 - val_mae: 0.3750\n",
      "Epoch 35/100\n",
      "\u001b[1m465/465\u001b[0m \u001b[32m━━━━━━━━━━━━━━━━━━━━\u001b[0m\u001b[37m\u001b[0m \u001b[1m1s\u001b[0m 2ms/step - loss: 0.2627 - mae: 0.3475 - val_loss: 0.2902 - val_mae: 0.3671\n",
      "Epoch 36/100\n",
      "\u001b[1m465/465\u001b[0m \u001b[32m━━━━━━━━━━━━━━━━━━━━\u001b[0m\u001b[37m\u001b[0m \u001b[1m2s\u001b[0m 3ms/step - loss: 0.2581 - mae: 0.3405 - val_loss: 0.2996 - val_mae: 0.3773\n",
      "Epoch 37/100\n",
      "\u001b[1m465/465\u001b[0m \u001b[32m━━━━━━━━━━━━━━━━━━━━\u001b[0m\u001b[37m\u001b[0m \u001b[1m1s\u001b[0m 3ms/step - loss: 0.2488 - mae: 0.3433 - val_loss: 0.2987 - val_mae: 0.3716\n",
      "Epoch 38/100\n",
      "\u001b[1m465/465\u001b[0m \u001b[32m━━━━━━━━━━━━━━━━━━━━\u001b[0m\u001b[37m\u001b[0m \u001b[1m1s\u001b[0m 2ms/step - loss: 0.2519 - mae: 0.3450 - val_loss: 0.2931 - val_mae: 0.3737\n",
      "Epoch 39/100\n",
      "\u001b[1m465/465\u001b[0m \u001b[32m━━━━━━━━━━━━━━━━━━━━\u001b[0m\u001b[37m\u001b[0m \u001b[1m1s\u001b[0m 3ms/step - loss: 0.2600 - mae: 0.3448 - val_loss: 0.2894 - val_mae: 0.3578\n",
      "Epoch 40/100\n",
      "\u001b[1m465/465\u001b[0m \u001b[32m━━━━━━━━━━━━━━━━━━━━\u001b[0m\u001b[37m\u001b[0m \u001b[1m1s\u001b[0m 3ms/step - loss: 0.2428 - mae: 0.3365 - val_loss: 0.2907 - val_mae: 0.3687\n",
      "Epoch 41/100\n",
      "\u001b[1m465/465\u001b[0m \u001b[32m━━━━━━━━━━━━━━━━━━━━\u001b[0m\u001b[37m\u001b[0m \u001b[1m2s\u001b[0m 3ms/step - loss: 0.2681 - mae: 0.3465 - val_loss: 0.2882 - val_mae: 0.3588\n",
      "Epoch 42/100\n",
      "\u001b[1m465/465\u001b[0m \u001b[32m━━━━━━━━━━━━━━━━━━━━\u001b[0m\u001b[37m\u001b[0m \u001b[1m1s\u001b[0m 3ms/step - loss: 0.2410 - mae: 0.3341 - val_loss: 0.2975 - val_mae: 0.3617\n",
      "Epoch 43/100\n",
      "\u001b[1m465/465\u001b[0m \u001b[32m━━━━━━━━━━━━━━━━━━━━\u001b[0m\u001b[37m\u001b[0m \u001b[1m1s\u001b[0m 3ms/step - loss: 0.2443 - mae: 0.3388 - val_loss: 0.2872 - val_mae: 0.3641\n",
      "Epoch 44/100\n",
      "\u001b[1m465/465\u001b[0m \u001b[32m━━━━━━━━━━━━━━━━━━━━\u001b[0m\u001b[37m\u001b[0m \u001b[1m1s\u001b[0m 3ms/step - loss: 0.2402 - mae: 0.3319 - val_loss: 0.2980 - val_mae: 0.3645\n",
      "Epoch 45/100\n",
      "\u001b[1m465/465\u001b[0m \u001b[32m━━━━━━━━━━━━━━━━━━━━\u001b[0m\u001b[37m\u001b[0m \u001b[1m1s\u001b[0m 3ms/step - loss: 0.2343 - mae: 0.3298 - val_loss: 0.2876 - val_mae: 0.3712\n",
      "Epoch 46/100\n",
      "\u001b[1m465/465\u001b[0m \u001b[32m━━━━━━━━━━━━━━━━━━━━\u001b[0m\u001b[37m\u001b[0m \u001b[1m1s\u001b[0m 2ms/step - loss: 0.2441 - mae: 0.3376 - val_loss: 0.2924 - val_mae: 0.3600\n",
      "Epoch 47/100\n",
      "\u001b[1m465/465\u001b[0m \u001b[32m━━━━━━━━━━━━━━━━━━━━\u001b[0m\u001b[37m\u001b[0m \u001b[1m1s\u001b[0m 2ms/step - loss: 0.2384 - mae: 0.3340 - val_loss: 0.3212 - val_mae: 0.4108\n",
      "Epoch 48/100\n",
      "\u001b[1m465/465\u001b[0m \u001b[32m━━━━━━━━━━━━━━━━━━━━\u001b[0m\u001b[37m\u001b[0m \u001b[1m1s\u001b[0m 3ms/step - loss: 0.2358 - mae: 0.3347 - val_loss: 0.2877 - val_mae: 0.3696\n",
      "Epoch 49/100\n",
      "\u001b[1m465/465\u001b[0m \u001b[32m━━━━━━━━━━━━━━━━━━━━\u001b[0m\u001b[37m\u001b[0m \u001b[1m1s\u001b[0m 2ms/step - loss: 0.2369 - mae: 0.3318 - val_loss: 0.2837 - val_mae: 0.3569\n",
      "Epoch 50/100\n",
      "\u001b[1m465/465\u001b[0m \u001b[32m━━━━━━━━━━━━━━━━━━━━\u001b[0m\u001b[37m\u001b[0m \u001b[1m1s\u001b[0m 2ms/step - loss: 0.2317 - mae: 0.3259 - val_loss: 0.2870 - val_mae: 0.3673\n",
      "Epoch 51/100\n",
      "\u001b[1m465/465\u001b[0m \u001b[32m━━━━━━━━━━━━━━━━━━━━\u001b[0m\u001b[37m\u001b[0m \u001b[1m1s\u001b[0m 3ms/step - loss: 0.2313 - mae: 0.3287 - val_loss: 0.2964 - val_mae: 0.3638\n",
      "Epoch 52/100\n",
      "\u001b[1m465/465\u001b[0m \u001b[32m━━━━━━━━━━━━━━━━━━━━\u001b[0m\u001b[37m\u001b[0m \u001b[1m2s\u001b[0m 3ms/step - loss: 0.2395 - mae: 0.3372 - val_loss: 0.2857 - val_mae: 0.3661\n",
      "Epoch 53/100\n",
      "\u001b[1m465/465\u001b[0m \u001b[32m━━━━━━━━━━━━━━━━━━━━\u001b[0m\u001b[37m\u001b[0m \u001b[1m1s\u001b[0m 2ms/step - loss: 0.2367 - mae: 0.3334 - val_loss: 0.2887 - val_mae: 0.3746\n",
      "Epoch 54/100\n",
      "\u001b[1m465/465\u001b[0m \u001b[32m━━━━━━━━━━━━━━━━━━━━\u001b[0m\u001b[37m\u001b[0m \u001b[1m2s\u001b[0m 3ms/step - loss: 0.2272 - mae: 0.3272 - val_loss: 0.3091 - val_mae: 0.3679\n",
      "Epoch 55/100\n",
      "\u001b[1m465/465\u001b[0m \u001b[32m━━━━━━━━━━━━━━━━━━━━\u001b[0m\u001b[37m\u001b[0m \u001b[1m2s\u001b[0m 3ms/step - loss: 0.2428 - mae: 0.3343 - val_loss: 0.2864 - val_mae: 0.3686\n",
      "Epoch 56/100\n",
      "\u001b[1m465/465\u001b[0m \u001b[32m━━━━━━━━━━━━━━━━━━━━\u001b[0m\u001b[37m\u001b[0m \u001b[1m2s\u001b[0m 3ms/step - loss: 0.2381 - mae: 0.3339 - val_loss: 0.2838 - val_mae: 0.3577\n",
      "Epoch 57/100\n",
      "\u001b[1m465/465\u001b[0m \u001b[32m━━━━━━━━━━━━━━━━━━━━\u001b[0m\u001b[37m\u001b[0m \u001b[1m2s\u001b[0m 4ms/step - loss: 0.2344 - mae: 0.3300 - val_loss: 0.2940 - val_mae: 0.3608\n",
      "Epoch 58/100\n",
      "\u001b[1m465/465\u001b[0m \u001b[32m━━━━━━━━━━━━━━━━━━━━\u001b[0m\u001b[37m\u001b[0m \u001b[1m2s\u001b[0m 3ms/step - loss: 0.2294 - mae: 0.3277 - val_loss: 0.2957 - val_mae: 0.3593\n",
      "Epoch 59/100\n",
      "\u001b[1m465/465\u001b[0m \u001b[32m━━━━━━━━━━━━━━━━━━━━\u001b[0m\u001b[37m\u001b[0m \u001b[1m1s\u001b[0m 3ms/step - loss: 0.2410 - mae: 0.3321 - val_loss: 0.2877 - val_mae: 0.3724\n",
      "Epoch 60/100\n",
      "\u001b[1m465/465\u001b[0m \u001b[32m━━━━━━━━━━━━━━━━━━━━\u001b[0m\u001b[37m\u001b[0m \u001b[1m2s\u001b[0m 4ms/step - loss: 0.2365 - mae: 0.3330 - val_loss: 0.2945 - val_mae: 0.3690\n",
      "Epoch 61/100\n",
      "\u001b[1m465/465\u001b[0m \u001b[32m━━━━━━━━━━━━━━━━━━━━\u001b[0m\u001b[37m\u001b[0m \u001b[1m1s\u001b[0m 3ms/step - loss: 0.2403 - mae: 0.3322 - val_loss: 0.2901 - val_mae: 0.3667\n",
      "Epoch 62/100\n",
      "\u001b[1m465/465\u001b[0m \u001b[32m━━━━━━━━━━━━━━━━━━━━\u001b[0m\u001b[37m\u001b[0m \u001b[1m1s\u001b[0m 3ms/step - loss: 0.2284 - mae: 0.3276 - val_loss: 0.2818 - val_mae: 0.3626\n",
      "Epoch 63/100\n",
      "\u001b[1m465/465\u001b[0m \u001b[32m━━━━━━━━━━━━━━━━━━━━\u001b[0m\u001b[37m\u001b[0m \u001b[1m2s\u001b[0m 3ms/step - loss: 0.2261 - mae: 0.3272 - val_loss: 0.2896 - val_mae: 0.3744\n",
      "Epoch 64/100\n",
      "\u001b[1m465/465\u001b[0m \u001b[32m━━━━━━━━━━━━━━━━━━━━\u001b[0m\u001b[37m\u001b[0m \u001b[1m2s\u001b[0m 4ms/step - loss: 0.2248 - mae: 0.3255 - val_loss: 0.2876 - val_mae: 0.3583\n",
      "Epoch 65/100\n",
      "\u001b[1m465/465\u001b[0m \u001b[32m━━━━━━━━━━━━━━━━━━━━\u001b[0m\u001b[37m\u001b[0m \u001b[1m1s\u001b[0m 3ms/step - loss: 0.2223 - mae: 0.3234 - val_loss: 0.2888 - val_mae: 0.3579\n",
      "Epoch 66/100\n",
      "\u001b[1m465/465\u001b[0m \u001b[32m━━━━━━━━━━━━━━━━━━━━\u001b[0m\u001b[37m\u001b[0m \u001b[1m3s\u001b[0m 4ms/step - loss: 0.2297 - mae: 0.3298 - val_loss: 0.2911 - val_mae: 0.3558\n",
      "Epoch 67/100\n",
      "\u001b[1m465/465\u001b[0m \u001b[32m━━━━━━━━━━━━━━━━━━━━\u001b[0m\u001b[37m\u001b[0m \u001b[1m1s\u001b[0m 3ms/step - loss: 0.2307 - mae: 0.3298 - val_loss: 0.2916 - val_mae: 0.3602\n",
      "Epoch 68/100\n",
      "\u001b[1m465/465\u001b[0m \u001b[32m━━━━━━━━━━━━━━━━━━━━\u001b[0m\u001b[37m\u001b[0m \u001b[1m2s\u001b[0m 3ms/step - loss: 0.2246 - mae: 0.3234 - val_loss: 0.2875 - val_mae: 0.3540\n",
      "Epoch 69/100\n",
      "\u001b[1m465/465\u001b[0m \u001b[32m━━━━━━━━━━━━━━━━━━━━\u001b[0m\u001b[37m\u001b[0m \u001b[1m2s\u001b[0m 3ms/step - loss: 0.2211 - mae: 0.3221 - val_loss: 0.2888 - val_mae: 0.3623\n",
      "Epoch 70/100\n",
      "\u001b[1m465/465\u001b[0m \u001b[32m━━━━━━━━━━━━━━━━━━━━\u001b[0m\u001b[37m\u001b[0m \u001b[1m1s\u001b[0m 3ms/step - loss: 0.2206 - mae: 0.3244 - val_loss: 0.2889 - val_mae: 0.3608\n",
      "Epoch 71/100\n",
      "\u001b[1m465/465\u001b[0m \u001b[32m━━━━━━━━━━━━━━━━━━━━\u001b[0m\u001b[37m\u001b[0m \u001b[1m1s\u001b[0m 3ms/step - loss: 0.2172 - mae: 0.3220 - val_loss: 0.2902 - val_mae: 0.3668\n",
      "Epoch 72/100\n",
      "\u001b[1m465/465\u001b[0m \u001b[32m━━━━━━━━━━━━━━━━━━━━\u001b[0m\u001b[37m\u001b[0m \u001b[1m1s\u001b[0m 3ms/step - loss: 0.2226 - mae: 0.3234 - val_loss: 0.2867 - val_mae: 0.3668\n",
      "Epoch 73/100\n",
      "\u001b[1m465/465\u001b[0m \u001b[32m━━━━━━━━━━━━━━━━━━━━\u001b[0m\u001b[37m\u001b[0m \u001b[1m1s\u001b[0m 3ms/step - loss: 0.2223 - mae: 0.3221 - val_loss: 0.2962 - val_mae: 0.3559\n",
      "Epoch 74/100\n",
      "\u001b[1m465/465\u001b[0m \u001b[32m━━━━━━━━━━━━━━━━━━━━\u001b[0m\u001b[37m\u001b[0m \u001b[1m2s\u001b[0m 4ms/step - loss: 0.2289 - mae: 0.3255 - val_loss: 0.2942 - val_mae: 0.3669\n",
      "Epoch 75/100\n",
      "\u001b[1m465/465\u001b[0m \u001b[32m━━━━━━━━━━━━━━━━━━━━\u001b[0m\u001b[37m\u001b[0m \u001b[1m1s\u001b[0m 3ms/step - loss: 0.2255 - mae: 0.3265 - val_loss: 0.2915 - val_mae: 0.3610\n",
      "Epoch 76/100\n",
      "\u001b[1m465/465\u001b[0m \u001b[32m━━━━━━━━━━━━━━━━━━━━\u001b[0m\u001b[37m\u001b[0m \u001b[1m1s\u001b[0m 3ms/step - loss: 0.2277 - mae: 0.3244 - val_loss: 0.2953 - val_mae: 0.3649\n",
      "Epoch 77/100\n",
      "\u001b[1m465/465\u001b[0m \u001b[32m━━━━━━━━━━━━━━━━━━━━\u001b[0m\u001b[37m\u001b[0m \u001b[1m1s\u001b[0m 3ms/step - loss: 0.2224 - mae: 0.3241 - val_loss: 0.2843 - val_mae: 0.3628\n",
      "Epoch 78/100\n",
      "\u001b[1m465/465\u001b[0m \u001b[32m━━━━━━━━━━━━━━━━━━━━\u001b[0m\u001b[37m\u001b[0m \u001b[1m1s\u001b[0m 3ms/step - loss: 0.2147 - mae: 0.3204 - val_loss: 0.2879 - val_mae: 0.3701\n",
      "Epoch 79/100\n",
      "\u001b[1m465/465\u001b[0m \u001b[32m━━━━━━━━━━━━━━━━━━━━\u001b[0m\u001b[37m\u001b[0m \u001b[1m1s\u001b[0m 3ms/step - loss: 0.2163 - mae: 0.3192 - val_loss: 0.2978 - val_mae: 0.3713\n",
      "Epoch 80/100\n",
      "\u001b[1m465/465\u001b[0m \u001b[32m━━━━━━━━━━━━━━━━━━━━\u001b[0m\u001b[37m\u001b[0m \u001b[1m1s\u001b[0m 3ms/step - loss: 0.2181 - mae: 0.3227 - val_loss: 0.2919 - val_mae: 0.3591\n",
      "Epoch 81/100\n",
      "\u001b[1m465/465\u001b[0m \u001b[32m━━━━━━━━━━━━━━━━━━━━\u001b[0m\u001b[37m\u001b[0m \u001b[1m1s\u001b[0m 3ms/step - loss: 0.2136 - mae: 0.3154 - val_loss: 0.2891 - val_mae: 0.3704\n",
      "Epoch 82/100\n",
      "\u001b[1m465/465\u001b[0m \u001b[32m━━━━━━━━━━━━━━━━━━━━\u001b[0m\u001b[37m\u001b[0m \u001b[1m1s\u001b[0m 3ms/step - loss: 0.2215 - mae: 0.3220 - val_loss: 0.2846 - val_mae: 0.3563\n",
      "Epoch 83/100\n",
      "\u001b[1m465/465\u001b[0m \u001b[32m━━━━━━━━━━━━━━━━━━━━\u001b[0m\u001b[37m\u001b[0m \u001b[1m1s\u001b[0m 3ms/step - loss: 0.2155 - mae: 0.3154 - val_loss: 0.2883 - val_mae: 0.3576\n",
      "Epoch 84/100\n",
      "\u001b[1m465/465\u001b[0m \u001b[32m━━━━━━━━━━━━━━━━━━━━\u001b[0m\u001b[37m\u001b[0m \u001b[1m1s\u001b[0m 3ms/step - loss: 0.2200 - mae: 0.3219 - val_loss: 0.3029 - val_mae: 0.3912\n",
      "Epoch 85/100\n",
      "\u001b[1m465/465\u001b[0m \u001b[32m━━━━━━━━━━━━━━━━━━━━\u001b[0m\u001b[37m\u001b[0m \u001b[1m2s\u001b[0m 3ms/step - loss: 0.2197 - mae: 0.3197 - val_loss: 0.2795 - val_mae: 0.3577\n",
      "Epoch 86/100\n",
      "\u001b[1m465/465\u001b[0m \u001b[32m━━━━━━━━━━━━━━━━━━━━\u001b[0m\u001b[37m\u001b[0m \u001b[1m2s\u001b[0m 3ms/step - loss: 0.2095 - mae: 0.3153 - val_loss: 0.2880 - val_mae: 0.3688\n",
      "Epoch 87/100\n",
      "\u001b[1m465/465\u001b[0m \u001b[32m━━━━━━━━━━━━━━━━━━━━\u001b[0m\u001b[37m\u001b[0m \u001b[1m2s\u001b[0m 4ms/step - loss: 0.2152 - mae: 0.3184 - val_loss: 0.2890 - val_mae: 0.3593\n",
      "Epoch 88/100\n",
      "\u001b[1m465/465\u001b[0m \u001b[32m━━━━━━━━━━━━━━━━━━━━\u001b[0m\u001b[37m\u001b[0m \u001b[1m2s\u001b[0m 3ms/step - loss: 0.2141 - mae: 0.3164 - val_loss: 0.2895 - val_mae: 0.3626\n",
      "Epoch 89/100\n",
      "\u001b[1m465/465\u001b[0m \u001b[32m━━━━━━━━━━━━━━━━━━━━\u001b[0m\u001b[37m\u001b[0m \u001b[1m1s\u001b[0m 3ms/step - loss: 0.2108 - mae: 0.3145 - val_loss: 0.3254 - val_mae: 0.4070\n",
      "Epoch 90/100\n",
      "\u001b[1m465/465\u001b[0m \u001b[32m━━━━━━━━━━━━━━━━━━━━\u001b[0m\u001b[37m\u001b[0m \u001b[1m1s\u001b[0m 3ms/step - loss: 0.2174 - mae: 0.3224 - val_loss: 0.2849 - val_mae: 0.3628\n",
      "Epoch 91/100\n",
      "\u001b[1m465/465\u001b[0m \u001b[32m━━━━━━━━━━━━━━━━━━━━\u001b[0m\u001b[37m\u001b[0m \u001b[1m1s\u001b[0m 3ms/step - loss: 0.2209 - mae: 0.3199 - val_loss: 0.2873 - val_mae: 0.3659\n",
      "Epoch 92/100\n",
      "\u001b[1m465/465\u001b[0m \u001b[32m━━━━━━━━━━━━━━━━━━━━\u001b[0m\u001b[37m\u001b[0m \u001b[1m1s\u001b[0m 3ms/step - loss: 0.2079 - mae: 0.3145 - val_loss: 0.2816 - val_mae: 0.3527\n",
      "Epoch 93/100\n",
      "\u001b[1m465/465\u001b[0m \u001b[32m━━━━━━━━━━━━━━━━━━━━\u001b[0m\u001b[37m\u001b[0m \u001b[1m2s\u001b[0m 3ms/step - loss: 0.2127 - mae: 0.3169 - val_loss: 0.2819 - val_mae: 0.3611\n",
      "Epoch 94/100\n",
      "\u001b[1m465/465\u001b[0m \u001b[32m━━━━━━━━━━━━━━━━━━━━\u001b[0m\u001b[37m\u001b[0m \u001b[1m2s\u001b[0m 4ms/step - loss: 0.2035 - mae: 0.3092 - val_loss: 0.2780 - val_mae: 0.3589\n",
      "Epoch 95/100\n",
      "\u001b[1m465/465\u001b[0m \u001b[32m━━━━━━━━━━━━━━━━━━━━\u001b[0m\u001b[37m\u001b[0m \u001b[1m1s\u001b[0m 3ms/step - loss: 0.2170 - mae: 0.3163 - val_loss: 0.2921 - val_mae: 0.3696\n",
      "Epoch 96/100\n",
      "\u001b[1m465/465\u001b[0m \u001b[32m━━━━━━━━━━━━━━━━━━━━\u001b[0m\u001b[37m\u001b[0m \u001b[1m1s\u001b[0m 3ms/step - loss: 0.2090 - mae: 0.3156 - val_loss: 0.2848 - val_mae: 0.3685\n",
      "Epoch 97/100\n",
      "\u001b[1m465/465\u001b[0m \u001b[32m━━━━━━━━━━━━━━━━━━━━\u001b[0m\u001b[37m\u001b[0m \u001b[1m1s\u001b[0m 3ms/step - loss: 0.2119 - mae: 0.3174 - val_loss: 0.2903 - val_mae: 0.3587\n",
      "Epoch 98/100\n",
      "\u001b[1m465/465\u001b[0m \u001b[32m━━━━━━━━━━━━━━━━━━━━\u001b[0m\u001b[37m\u001b[0m \u001b[1m1s\u001b[0m 3ms/step - loss: 0.2205 - mae: 0.3205 - val_loss: 0.2831 - val_mae: 0.3576\n",
      "Epoch 99/100\n",
      "\u001b[1m465/465\u001b[0m \u001b[32m━━━━━━━━━━━━━━━━━━━━\u001b[0m\u001b[37m\u001b[0m \u001b[1m1s\u001b[0m 3ms/step - loss: 0.2094 - mae: 0.3139 - val_loss: 0.2982 - val_mae: 0.3790\n",
      "Epoch 100/100\n",
      "\u001b[1m465/465\u001b[0m \u001b[32m━━━━━━━━━━━━━━━━━━━━\u001b[0m\u001b[37m\u001b[0m \u001b[1m1s\u001b[0m 3ms/step - loss: 0.2159 - mae: 0.3191 - val_loss: 0.2876 - val_mae: 0.3648\n"
     ]
    }
   ],
   "source": [
    "history = model.fit(X_train, y_train, epochs=100, batch_size=32, validation_split=0.1, verbose=1)"
   ]
  },
  {
   "cell_type": "code",
   "execution_count": 6,
   "metadata": {
    "id": "j-v0laFO20ej"
   },
   "outputs": [
    {
     "data": {
      "image/png": "[encoded data removed]",
      "text/plain": [
       "<Figure size 640x480 with 1 Axes>"
      ]
     },
     "metadata": {},
     "output_type": "display_data"
    }
   ],
   "source": [
    "plt.plot(history.history['loss'], label='Training Loss')\n",
    "plt.plot(history.history['val_loss'], label='Validation Loss')\n",
    "plt.xlabel('Epoch')\n",
    "plt.ylabel('MSE Loss')\n",
    "plt.legend()\n",
    "plt.title('Loss Over Epochs')\n",
    "plt.show()"
   ]
  },
  {
   "cell_type": "code",
   "execution_count": 7,
   "metadata": {
    "colab": {
     "base_uri": "https://localhost:8080/"
    },
    "id": "53TPNGwp21D-",
    "outputId": "12a85c0c-f5fc-4e98-c74a-9c13f13b3be0"
   },
   "outputs": [
    {
     "name": "stdout",
     "output_type": "stream",
     "text": [
      "\u001b[1m129/129\u001b[0m \u001b[32m━━━━━━━━━━━━━━━━━━━━\u001b[0m\u001b[37m\u001b[0m \u001b[1m1s\u001b[0m 3ms/step - loss: 0.2607 - mae: 0.3508\n",
      "Test MAE: 0.35\n"
     ]
    }
   ],
   "source": [
    "test_loss, test_mae = model.evaluate(X_test, y_test)\n",
    "print(f\"Test MAE: {test_mae:.2f}\")"
   ]
  },
  {
   "cell_type": "code",
   "execution_count": 14,
   "metadata": {
    "id": "FuWy6JmK3KKF"
   },
   "outputs": [
    {
     "name": "stdout",
     "output_type": "stream",
     "text": [
      "\u001b[1m129/129\u001b[0m \u001b[32m━━━━━━━━━━━━━━━━━━━━\u001b[0m\u001b[37m\u001b[0m \u001b[1m0s\u001b[0m 2ms/step\n",
      "First 5 predictions vs actual values:\n",
      "Predicted: 0.41, Actual: 0.48\n",
      "Predicted: 0.93, Actual: 0.46\n",
      "Predicted: 4.85, Actual: 5.00\n",
      "Predicted: 2.50, Actual: 2.19\n",
      "Predicted: 2.37, Actual: 2.78\n"
     ]
    }
   ],
   "source": [
    "# Predict on test set\n",
    "y_pred = model.predict(X_test)\n",
    "\n",
    "# Show first 5 predictions with actual values\n",
    "print(\"First 5 predictions vs actual values:\")\n",
    "for i in range(5):\n",
    "    print(f\"Predicted: {y_pred[i][0]:.2f}, Actual: {y_test[i]:.2f}\")"
   ]
  },
  {
   "cell_type": "code",
   "execution_count": 21,
   "metadata": {},
   "outputs": [
    {
     "name": "stdout",
     "output_type": "stream",
     "text": [
      "\u001b[1m1/1\u001b[0m \u001b[32m━━━━━━━━━━━━━━━━━━━━\u001b[0m\u001b[37m\u001b[0m \u001b[1m0s\u001b[0m 50ms/step\n",
      "\n",
      "Custom Prediction:\n",
      "Predicted Price: 1.10\n",
      "Actual Price   : 1.38\n"
     ]
    }
   ],
   "source": [
    "# Take a sample input from test\n",
    "sample_index = 19\n",
    "sample_input = X_test[sample_index].reshape(1, -1)\n",
    "\n",
    "# Make prediction\n",
    "predicted_price = model.predict(sample_input)[0][0]\n",
    "actual_price = y_test[sample_index]\n",
    "\n",
    "# Show prediction\n",
    "print(f\"\\nCustom Prediction:\")\n",
    "print(f\"Predicted Price: {predicted_price:.2f}\")\n",
    "print(f\"Actual Price   : {actual_price:.2f}\")"
   ]
  },
  {
   "cell_type": "code",
   "execution_count": null,
   "metadata": {},
   "outputs": [],
   "source": []
  }
 ],
 "metadata": {
  "accelerator": "GPU",
  "colab": {
   "gpuType": "T4",
   "provenance": []
  },
  "kernelspec": {
   "display_name": "Python 3 (ipykernel)",
   "language": "python",
   "name": "python3"
  },
  "language_info": {
   "codemirror_mode": {
    "name": "ipython",
    "version": 3
   },
   "file_extension": ".py",
   "mimetype": "text/x-python",
   "name": "python",
   "nbconvert_exporter": "python",
   "pygments_lexer": "ipython3",
   "version": "3.12.4"
  }
 },
 "nbformat": 4,
 "nbformat_minor": 4
}
