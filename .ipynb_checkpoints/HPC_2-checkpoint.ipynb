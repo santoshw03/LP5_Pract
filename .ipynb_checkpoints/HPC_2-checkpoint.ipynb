{
 "cells": [
  {
   "cell_type": "code",
   "execution_count": 1,
   "id": "bb2f2208-b268-4511-abae-3cc69b18beec",
   "metadata": {},
   "outputs": [
    {
     "name": "stdout",
     "output_type": "stream",
     "text": [
      "Sorted array using Bubble Sort: 1 2 3 5 7 8 9\n",
      "Sorted array using Merge Sort: 1 2 3 5 7 8 9\n",
      "Bubble sort time in seconds: 0.0\n",
      "Merge sort time in seconds: 0.0\n"
     ]
    }
   ],
   "source": [
    "import time\n",
    "\n",
    "def bubble_sort(arr):\n",
    "    n = len(arr)\n",
    "    swapped = True\n",
    "    while swapped:\n",
    "        swapped = False\n",
    "        for i in range(n - 1):\n",
    "            if arr[i] > arr[i + 1]:\n",
    "                arr[i], arr[i + 1] = arr[i + 1], arr[i]\n",
    "                swapped = True\n",
    "\n",
    "def merge(arr, l, m, r):\n",
    "    left = arr[l:m+1]\n",
    "    right = arr[m+1:r+1]\n",
    "    i = j = 0\n",
    "    k = l\n",
    "\n",
    "    while i < len(left) and j < len(right):\n",
    "        if left[i] <= right[j]:\n",
    "            arr[k] = left[i]\n",
    "            i += 1\n",
    "        else:\n",
    "            arr[k] = right[j]\n",
    "            j += 1\n",
    "        k += 1\n",
    "\n",
    "    while i < len(left):\n",
    "        arr[k] = left[i]\n",
    "        i += 1\n",
    "        k += 1\n",
    "\n",
    "    while j < len(right):\n",
    "        arr[k] = right[j]\n",
    "        j += 1\n",
    "        k += 1\n",
    "\n",
    "def merge_sort(arr, l, r):\n",
    "    if l < r:\n",
    "        m = (l + r) // 2\n",
    "        merge_sort(arr, l, m)\n",
    "        merge_sort(arr, m + 1, r)\n",
    "        merge(arr, l, m, r)\n",
    "\n",
    "\n",
    "arr = [5, 8, 1, 3, 7, 9, 2]\n",
    "n = len(arr)\n",
    "\n",
    "\n",
    "arr_bubble = arr.copy()\n",
    "arr_merge = arr.copy()\n",
    "\n",
    "\n",
    "bubble_start = time.time()\n",
    "bubble_sort(arr_bubble)\n",
    "bubble_end = time.time()\n",
    "\n",
    "print(\"Sorted array using Bubble Sort:\", *arr_bubble)\n",
    "\n",
    "# Merge Sort Timing\n",
    "merge_start = time.time()\n",
    "merge_sort(arr_merge, 0, n - 1)\n",
    "merge_end = time.time()\n",
    "\n",
    "print(\"Sorted array using Merge Sort:\", *arr_merge)\n",
    "\n",
    "print(\"Bubble sort time in seconds:\", bubble_end - bubble_start)\n",
    "print(\"Merge sort time in seconds:\", merge_end - merge_start)"
   ]
  },
  {
   "cell_type": "code",
   "execution_count": null,
   "id": "3ed64ffc-b4d8-4f40-b2fd-2938bd776ab1",
   "metadata": {},
   "outputs": [],
   "source": []
  }
 ],
 "metadata": {
  "kernelspec": {
   "display_name": "Python 3 (ipykernel)",
   "language": "python",
   "name": "python3"
  },
  "language_info": {
   "codemirror_mode": {
    "name": "ipython",
    "version": 3
   },
   "file_extension": ".py",
   "mimetype": "text/x-python",
   "name": "python",
   "nbconvert_exporter": "python",
   "pygments_lexer": "ipython3",
   "version": "3.12.4"
  }
 },
 "nbformat": 4,
 "nbformat_minor": 5
}
