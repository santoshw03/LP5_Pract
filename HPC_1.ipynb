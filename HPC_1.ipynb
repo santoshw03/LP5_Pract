{
 "cells": [
  {
   "cell_type": "code",
   "execution_count": 9,
   "id": "8fa13e20-4fe9-464e-99e9-0cc941ad963f",
   "metadata": {},
   "outputs": [
    {
     "name": "stdout",
     "output_type": "stream",
     "text": [
      "BFS traversal starting from node 0: 0 1 2 3 4 \n",
      "DFS traversal starting from node 0: 0 1 3 4 2 \n"
     ]
    }
   ],
   "source": [
    "from collections import deque, defaultdict\n",
    "\n",
    "class Graph:\n",
    "    def __init__(self, V):\n",
    "        self.V = V\n",
    "        self.adj = defaultdict(list)\n",
    "\n",
    "    def add_edge(self, u, v):\n",
    "        self.adj[u].append(v)\n",
    "        self.adj[v].append(u)\n",
    "\n",
    "    def bfs(self, start):\n",
    "        visited = [False] * self.V\n",
    "        queue = deque()\n",
    "        visited[start] = True\n",
    "        queue.append(start)\n",
    "\n",
    "        print(\"BFS traversal starting from node\", start, end=\": \")\n",
    "        while queue:\n",
    "            u = queue.popleft()\n",
    "            print(u, end=\" \")\n",
    "\n",
    "            for v in self.adj[u]:\n",
    "                if not visited[v]:\n",
    "                    visited[v] = True\n",
    "                    queue.append(v)\n",
    "        print()\n",
    "\n",
    "    def dfs(self, start):\n",
    "        visited = [False] * self.V\n",
    "        print(\"DFS traversal starting from node\", start, end=\": \")\n",
    "        self._dfs_util(start, visited)\n",
    "        print()\n",
    "\n",
    "    def _dfs_util(self, u, visited):\n",
    "        visited[u] = True\n",
    "        print(u, end=\" \")\n",
    "\n",
    "        for v in self.adj[u]:\n",
    "            if not visited[v]:\n",
    "                self._dfs_util(v, visited)\n",
    "\n",
    "\n",
    "V = 5\n",
    "edges = [\n",
    "    (0, 1),\n",
    "    (0, 2),\n",
    "    (1, 3),\n",
    "    (3, 4)\n",
    "]\n",
    "\n",
    "\n",
    "g = Graph(V)\n",
    "for u, v in edges:\n",
    "    g.add_edge(u, v)\n",
    "\n",
    "# Run BFS and DFS\n",
    "g.bfs(0)\n",
    "g.dfs(0)"
   ]
  },
  {
   "cell_type": "code",
   "execution_count": null,
   "id": "8c0f6892-94d5-478c-9754-135c10bd815d",
   "metadata": {},
   "outputs": [],
   "source": []
  }
 ],
 "metadata": {
  "kernelspec": {
   "display_name": "Python 3 (ipykernel)",
   "language": "python",
   "name": "python3"
  },
  "language_info": {
   "codemirror_mode": {
    "name": "ipython",
    "version": 3
   },
   "file_extension": ".py",
   "mimetype": "text/x-python",
   "name": "python",
   "nbconvert_exporter": "python",
   "pygments_lexer": "ipython3",
   "version": "3.12.4"
  }
 },
 "nbformat": 4,
 "nbformat_minor": 5
}
